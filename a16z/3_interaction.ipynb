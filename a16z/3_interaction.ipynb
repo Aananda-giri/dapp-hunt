{
 "cells": [
  {
   "cell_type": "code",
   "execution_count": 6,
   "metadata": {},
   "outputs": [
    {
     "name": "stdout",
     "output_type": "stream",
     "text": [
      "len: 1, summary:\n",
      "### 1. Consolidated Key Questions Asked by A16Z  \n",
      "- **Market Opportunity**: Is the startup addressing a large, underserved market with structural inefficiencies or unmet demand, aligned with macro trends (e.g., AI adoption, sustainability, decentralization)?  \n",
      "- **Founding Team**: Does the team possess deep domain expertise, founder-market fit, and a proven ability to execute through adversity (pivots, market cycles)?  \n",
      "- **Product Differentiation**: Does the solution offer a 10x improvement through technological innovation (AI, blockchain, synthetic biology), network effects, or ecosystem-driven defensibility?  \n",
      "- **Scalability & Sustainability**: Can the business scale efficiently with low marginal costs, while maintaining quality, security, and alignment of stakeholder incentives?  \n",
      "- **Validation & Traction**: Is there evidence of product-market fit, such as organic growth, high retention, or measurable outcomes (cost savings, clinical validation)?  \n",
      "- **Vision & Timing**: Does the product align with emerging technological, societal, or regulatory trends that accelerate adoption (e.g., remote work, healthcare digitization)?  \n",
      "- **Societal Impact**: Does the solution address systemic challenges (climate change, financial inclusion) while redefining industry standards?  \n",
      "\n",
      "---\n",
      "\n",
      "### 2. Refined Investment Decision Factors  \n",
      "#### Category: Market Opportunity  \n",
      "- Focus on **large markets (>$1B+)** with structural inefficiencies (e.g., legacy systems, fragmented industries, regulatory gaps) and macro tailwinds (AI adoption, sustainability imperatives).  \n",
      "- Prioritize solutions with **ecosystem potential** (network effects, platform standardization) or **category-defining infrastructure** (decentralized finance rails, API-first architectures).  \n",
      "\n",
      "#### Category: Team & Execution  \n",
      "- **Founder-market fit**: Domain expertise, prior entrepreneurial success, or \"lived experience\" with the problem space.  \n",
      "- **Execution velocity**: Rapid product iteration, capital efficiency, and operational grit (e.g., hands-on customer immersion, pivoting resilience).  \n",
      "- **Talent density**: Ability to attract top technical/domain talent (ML engineers, open-source leaders) and cross-functional leadership.  \n",
      "\n",
      "#### Category: Product & Technology  \n",
      "- **Technical differentiation**: Cutting-edge solutions (zero-knowledge proofs, CRISPR IP, distributed systems) with defensible IP or data moats.  \n",
      "- **User-centric design**: Vertical integration, no-code interfaces, or automation replacing manual workflows (e.g., healthcare billing, legal processes).  \n",
      "- **Ecosystem defensibility**: Open-source communities, developer toolchains, or API-driven network effects that deepen with scale.  \n",
      "\n",
      "#### Category: Business Model & Scalability  \n",
      "- **Recurring revenue models**: SaaS, platform fees, or marketplace liquidity with high retention and low CAC.  \n",
      "- **Asset-light scalability**: Capital-efficient architectures (cloud-native infrastructure, peer-to-peer networks) designed for global compliance.  \n",
      "- **Incentive alignment**: Tokenized ecosystems, revenue-sharing models, or hybrid digital/physical offerings (e.g., cultivated meat + plant-based products).  \n",
      "\n",
      "#### Category: Defensibility  \n",
      "- **Network effects**: Viral adoption loops, community ownership models (DAOs), or marketplace liquidity moats.  \n",
      "- **Technical/IP moats**: Proprietary algorithms, enterprise-grade infrastructure, or regulatory approvals (e.g., healthcare compliance, space licensing).  \n",
      "- **Cultural leadership**: Early adoption by trendsetting communities (web3, healthcare innovators) reinforcing brand authority.  \n",
      "\n",
      "#### Category: Societal Impact  \n",
      "- **Democratized access**: Financial inclusion, decentralized ownership models, or tools empowering underserved populations.  \n",
      "- **Sustainability**: Solutions reducing waste (food supply chains) or emissions through operational optimization.  \n",
      "- **High-stakes problem-solving**: Alignment with existential challenges (cancer therapeutics, autonomous vehicle safety, national security).  \n",
      "\n",
      "---\n",
      "\n",
      "### Prioritization Summary  \n",
      "A16z’s framework prioritizes **founders with obsessive domain expertise**, **technical solutions to systemic inefficiencies**, and **platforms combining software depth with ecosystem defensibility**. Key bets balance **execution velocity** with **architectural foresight** to own infrastructure layers in industries undergoing transformation (healthcare, finance, climate). Societal impact and commercial success are treated as inseparable.\n"
     ]
    }
   ],
   "source": [
    "import json\n",
    "with open('summaries3.json','r') as f:\n",
    "    summaries = json.load(f)\n",
    "\n",
    "\n",
    "\n",
    "print(f'len: {len(summaries)}, summary:\\n{summaries[0]}')\n",
    "\n",
    "a16z_summary = summaries[0]"
   ]
  },
  {
   "cell_type": "code",
   "execution_count": 4,
   "metadata": {},
   "outputs": [
    {
     "name": "stderr",
     "output_type": "stream",
     "text": [
      "<>:1: SyntaxWarning: invalid escape sequence '\\d'\n",
      "<>:1: SyntaxWarning: invalid escape sequence '\\d'\n",
      "/tmp/ipykernel_14244/842387168.py:1: SyntaxWarning: invalid escape sequence '\\d'\n",
      "  uniswap_context='''\n"
     ]
    }
   ],
   "source": [
    "uniswap_context='''\n",
    "Uniswap is a decentralized cryptocurrency exchange that uses a set of smart contracts to create liquidity pools for the execution of trades. It is an open source project and falls into the category of a DeFi product (Decentralized finance) because it uses smart contracts to facilitate trades instead of a centralized exchange. The protocol facilitates automated transactions between cryptocurrency tokens on the Ethereum blockchain through the use of smart contracts. As of December 2024, Uniswap is estimated to be the second largest decentralized exchange and the seventh-largest cryptocurrency exchange overall by daily trading volume.[1]\n",
    "\n",
    "History\n",
    "\n",
    "This section contains promotional content. Please help improve it by removing promotional language and inappropriate external links, and by adding encyclopedic text written from a neutral point of view. (December 2024) (Learn how and when to remove this message)\n",
    "Uniswap was created on November 2, 2018[2] by Hayden Adams,[3] a former mechanical engineer at Siemens.[1] Adams is the founder and CEO of Uniswap Labs, the company responsible for the development of the Uniswap Protocol, a decentralized exchange (DEX) built on the Ethereum blockchain.[4] Adams launched Uniswap in November 2018, after working as a mechanical engineer[5] and being inspired by a blog post written by Vitalik Buterin, the co-founder of Ethereum.[citation needed] His goal was to create a decentralized platform for exchanging tokens without relying on centralized exchanges.\n",
    "\n",
    "Adams had no prior experience in blockchain technology or software development but taught himself through online resources. His innovative work on Uniswap has played a key role in the growth of decentralized finance (DeFi) by introducing the Automated Market Maker (AMM) model, which allows users to trade cryptocurrencies directly from their wallets.[6]\n",
    "\n",
    "The Uniswap company received investments from business angel Ric Burton and venture capital firms, including Andreessen Horowitz, Paradigm Operations,[7][8] Union Square Ventures LLC and ParaFi.[1][9] Uniswap’s average daily trading volume was US$220 million in October 2020.[1] Traders and investors have utilized Uniswap because of its usage in decentralized finance (DeFi).[1]\n",
    "\n",
    "Uniswap Labs\n",
    "Uniswap Labs is a software company in the decentralized finance (DeFi) space, founded in 2018 by Hayden Adams.[10]\n",
    "\n",
    "In 2022 Uniswap Labs had raised $165 million, after announcing in 2021 that it was looking to raise between $100 and $200 million and was working with Polychain.[11]\n",
    "\n",
    "Uniswap offers products such as a self-custodial mobile wallet, a Trading API for professional users, and a web interface. These tools provide access to liquidity across multiple blockchains, including Ethereum, Polygon, and Optimism. The company has also collaborated with traditional finance platforms like Fireblocks to integrate DeFi features into traditional financial systems, thereby expanding its reach to institutional clients.[12]\n",
    "\n",
    "Overview\n",
    "Uniswap is a decentralized finance protocol that is used to exchange cryptocurrencies and tokens; it is provided on blockchain networks that run open-source software.[1][13] This is in contrast to cryptocurrency exchanges that are run by centralized companies.\n",
    "\n",
    "Changes to the protocol are voted on by the owners of a native cryptocurrency and governance token called UNI, and then implemented by a team of developers. Uniswap launched without the UNI token, and the token is not needed to trade on the exchange. Tokens were initially distributed to early users of the protocol.[14]\n",
    "\n",
    "\n",
    "Uniswap Foundation logo\n",
    "Protocol\n",
    "\n",
    "Constant product formula[15]\n",
    "Uniswap acts as an automated market maker and uses liquidity pools to fulfill orders, instead of relying on a traditional market maker, with an aim to create more efficient markets.[16][17][1] Individuals and bots—termed \"liquidity providers\"—provide liquidity to the exchange by adding a pair of tokens to a smart contract which can be bought and sold by other users according to the constant-product rule \n",
    "ϕ\n",
    "(\n",
    "x\n",
    ",\n",
    "y\n",
    ")\n",
    "=\n",
    "x\n",
    "y\n",
    "{\\displaystyle \\phi (x,y)=xy}.[18] In return, liquidity providers are given a percentage of the trading fees earned for that trading pair. For each trade, a certain amount of tokens is removed from the pool for an amount of the other token, thereby changing the price. No fees are required to list tokens which allow a large amount of Ethereum tokens to be accessible and no registration is required for users.[1] As open-source software, Uniswap's code can also be forked to create new exchanges.[19]\n",
    "\n",
    "\n",
    "\n",
    "UNI token\n",
    "\n",
    "UNI token 4 year release schedule[20]\n",
    "UNI is the governance token of the Uniswap protocol, enabling holders to participate in the platform's decentralized governance. Introduced in September 2020, UNI was distributed through an airdrop to early users of the platform and allocated to various stakeholders, including the development team, investors, and a community treasury.\n",
    "\n",
    "The token allows holders to propose and vote on protocol upgrades, changes to fee structures, and other governance-related matters. UNI operates on the Ethereum blockchain following the ERC-20 standard, ensuring compatibility with a wide range of decentralized applications. Its total supply is capped, with a scheduled release over several years to support ongoing development and ecosystem growth.[21]\n",
    "'''"
   ]
  },
  {
   "cell_type": "code",
   "execution_count": 8,
   "metadata": {},
   "outputs": [
    {
     "data": {
      "text/plain": [
       "'\\n### **Step 1: Pose an Extracted Investor Question**\\nYou are an investor bot that simulates the decision-making process of A16Z. Your task is to evaluate a new startup by using a set of pre-extracted investor questions and decision factors derived from A16Z articles (where they discuss why they inveted in a particular startup).\\n\\n- **Action:** Start by selecting one question from the provided final list of investor questions.\\n- **Example:** “What is the total addressable market (TAM) for this product?” or “Does the startup have a defensible competitive advantage?”\\n\\n---\\n\\n### **Step 2: Search for Answers in the new startup information provided by user**\\n\\n- **Action:** For the selected question, search the user provided information to see if answers exists.\\n  - **If a strong answer is found:**  \\n    - Present the answer to the user and explicitly highlight it as a strong point.  \\n    - Example: “Based on A16Z’s past analysis, a strong answer is: ‘The startup operates in a market with a rapidly growing TAM and strong network effects, which indicates significant future potential.’”\\n  - **If no answer is found in the dataset:**  \\n    - Ask the user directly for their answer to the question.\\n    - Example: “I couldn’t find a clear answer in our dataset. What is your view on the market size for this product?”\\n\\n---\\n\\n### **Step 3: Evaluate and Refine the User’s Answer**\\n\\n- **Action:** When the user provides an answer:\\n  - **If the answer is strong:**  \\n    - Acknowledge it as a strong point and proceed to the next question.\\n  - **If the answer appears weak or incomplete:**  \\n    - Engage the user with follow-up questions or suggestions to refine the answer.\\n    - Example: “Could you elaborate further on how the market dynamics provide a competitive edge for the startup? What specific trends support your view?”\\n\\n\\n\\n## Below are the decision factors derived from a16z articles.\\n\\n### 1. Consolidated Key Questions Asked by A16Z  \\n- **Market Opportunity**: Is the startup addressing a large, underserved market with structural inefficiencies or unmet demand, aligned with macro trends (e.g., AI adoption, sustainability, decentralization)?  \\n- **Founding Team**: Does the team possess deep domain expertise, founder-market fit, and a proven ability to execute through adversity (pivots, market cycles)?  \\n- **Product Differentiation**: Does the solution offer a 10x improvement through technological innovation (AI, blockchain, synthetic biology), network effects, or ecosystem-driven defensibility?  \\n- **Scalability & Sustainability**: Can the business scale efficiently with low marginal costs, while maintaining quality, security, and alignment of stakeholder incentives?  \\n- **Validation & Traction**: Is there evidence of product-market fit, such as organic growth, high retention, or measurable outcomes (cost savings, clinical validation)?  \\n- **Vision & Timing**: Does the product align with emerging technological, societal, or regulatory trends that accelerate adoption (e.g., remote work, healthcare digitization)?  \\n- **Societal Impact**: Does the solution address systemic challenges (climate change, financial inclusion) while redefining industry standards?  \\n\\n---\\n\\n### 2. Refined Investment Decision Factors  \\n#### Category: Market Opportunity  \\n- Focus on **large markets (>$1B+)** with structural inefficiencies (e.g., legacy systems, fragmented industries, regulatory gaps) and macro tailwinds (AI adoption, sustainability imperatives).  \\n- Prioritize solutions with **ecosystem potential** (network effects, platform standardization) or **category-defining infrastructure** (decentralized finance rails, API-first architectures).  \\n\\n#### Category: Team & Execution  \\n- **Founder-market fit**: Domain expertise, prior entrepreneurial success, or \"lived experience\" with the problem space.  \\n- **Execution velocity**: Rapid product iteration, capital efficiency, and operational grit (e.g., hands-on customer immersion, pivoting resilience).  \\n- **Talent density**: Ability to attract top technical/domain talent (ML engineers, open-source leaders) and cross-functional leadership.  \\n\\n#### Category: Product & Technology  \\n- **Technical differentiation**: Cutting-edge solutions (zero-knowledge proofs, CRISPR IP, distributed systems) with defensible IP or data moats.  \\n- **User-centric design**: Vertical integration, no-code interfaces, or automation replacing manual workflows (e.g., healthcare billing, legal processes).  \\n- **Ecosystem defensibility**: Open-source communities, developer toolchains, or API-driven network effects that deepen with scale.  \\n\\n#### Category: Business Model & Scalability  \\n- **Recurring revenue models**: SaaS, platform fees, or marketplace liquidity with high retention and low CAC.  \\n- **Asset-light scalability**: Capital-efficient architectures (cloud-native infrastructure, peer-to-peer networks) designed for global compliance.  \\n- **Incentive alignment**: Tokenized ecosystems, revenue-sharing models, or hybrid digital/physical offerings (e.g., cultivated meat + plant-based products).  \\n\\n#### Category: Defensibility  \\n- **Network effects**: Viral adoption loops, community ownership models (DAOs), or marketplace liquidity moats.  \\n- **Technical/IP moats**: Proprietary algorithms, enterprise-grade infrastructure, or regulatory approvals (e.g., healthcare compliance, space licensing).  \\n- **Cultural leadership**: Early adoption by trendsetting communities (web3, healthcare innovators) reinforcing brand authority.  \\n\\n#### Category: Societal Impact  \\n- **Democratized access**: Financial inclusion, decentralized ownership models, or tools empowering underserved populations.  \\n- **Sustainability**: Solutions reducing waste (food supply chains) or emissions through operational optimization.  \\n- **High-stakes problem-solving**: Alignment with existential challenges (cancer therapeutics, autonomous vehicle safety, national security).  \\n\\n---\\n\\n### Prioritization Summary  \\nA16z’s framework prioritizes **founders with obsessive domain expertise**, **technical solutions to systemic inefficiencies**, and **platforms combining software depth with ecosystem defensibility**. Key bets balance **execution velocity** with **architectural foresight** to own infrastructure layers in industries undergoing transformation (healthcare, finance, climate). Societal impact and commercial success are treated as inseparable.\\n\\n## Below is the information for new startup (uniswap)\\n\\nUniswap is a decentralized cryptocurrency exchange that uses a set of smart contracts to create liquidity pools for the execution of trades. It is an open source project and falls into the category of a DeFi product (Decentralized finance) because it uses smart contracts to facilitate trades instead of a centralized exchange. The protocol facilitates automated transactions between cryptocurrency tokens on the Ethereum blockchain through the use of smart contracts. As of December 2024, Uniswap is estimated to be the second largest decentralized exchange and the seventh-largest cryptocurrency exchange overall by daily trading volume.[1]\\n\\nHistory\\n\\nThis section contains promotional content. Please help improve it by removing promotional language and inappropriate external links, and by adding encyclopedic text written from a neutral point of view. (December 2024) (Learn how and when to remove this message)\\nUniswap was created on November 2, 2018[2] by Hayden Adams,[3] a former mechanical engineer at Siemens.[1] Adams is the founder and CEO of Uniswap Labs, the company responsible for the development of the Uniswap Protocol, a decentralized exchange (DEX) built on the Ethereum blockchain.[4] Adams launched Uniswap in November 2018, after working as a mechanical engineer[5] and being inspired by a blog post written by Vitalik Buterin, the co-founder of Ethereum.[citation needed] His goal was to create a decentralized platform for exchanging tokens without relying on centralized exchanges.\\n\\nAdams had no prior experience in blockchain technology or software development but taught himself through online resources. His innovative work on Uniswap has played a key role in the growth of decentralized finance (DeFi) by introducing the Automated Market Maker (AMM) model, which allows users to trade cryptocurrencies directly from their wallets.[6]\\n\\nThe Uniswap company received investments from business angel Ric Burton and venture capital firms, including Andreessen Horowitz, Paradigm Operations,[7][8] Union Square Ventures LLC and ParaFi.[1][9] Uniswap’s average daily trading volume was US$220 million in October 2020.[1] Traders and investors have utilized Uniswap because of its usage in decentralized finance (DeFi).[1]\\n\\nUniswap Labs\\nUniswap Labs is a software company in the decentralized finance (DeFi) space, founded in 2018 by Hayden Adams.[10]\\n\\nIn 2022 Uniswap Labs had raised $165 million, after announcing in 2021 that it was looking to raise between $100 and $200 million and was working with Polychain.[11]\\n\\nUniswap offers products such as a self-custodial mobile wallet, a Trading API for professional users, and a web interface. These tools provide access to liquidity across multiple blockchains, including Ethereum, Polygon, and Optimism. The company has also collaborated with traditional finance platforms like Fireblocks to integrate DeFi features into traditional financial systems, thereby expanding its reach to institutional clients.[12]\\n\\nOverview\\nUniswap is a decentralized finance protocol that is used to exchange cryptocurrencies and tokens; it is provided on blockchain networks that run open-source software.[1][13] This is in contrast to cryptocurrency exchanges that are run by centralized companies.\\n\\nChanges to the protocol are voted on by the owners of a native cryptocurrency and governance token called UNI, and then implemented by a team of developers. Uniswap launched without the UNI token, and the token is not needed to trade on the exchange. Tokens were initially distributed to early users of the protocol.[14]\\n\\n\\nUniswap Foundation logo\\nProtocol\\n\\nConstant product formula[15]\\nUniswap acts as an automated market maker and uses liquidity pools to fulfill orders, instead of relying on a traditional market maker, with an aim to create more efficient markets.[16][17][1] Individuals and bots—termed \"liquidity providers\"—provide liquidity to the exchange by adding a pair of tokens to a smart contract which can be bought and sold by other users according to the constant-product rule \\nϕ\\n(\\nx\\n,\\ny\\n)\\n=\\nx\\ny\\n{\\\\displaystyle \\\\phi (x,y)=xy}.[18] In return, liquidity providers are given a percentage of the trading fees earned for that trading pair. For each trade, a certain amount of tokens is removed from the pool for an amount of the other token, thereby changing the price. No fees are required to list tokens which allow a large amount of Ethereum tokens to be accessible and no registration is required for users.[1] As open-source software, Uniswap\\'s code can also be forked to create new exchanges.[19]\\n\\n\\n\\nUNI token\\n\\nUNI token 4 year release schedule[20]\\nUNI is the governance token of the Uniswap protocol, enabling holders to participate in the platform\\'s decentralized governance. Introduced in September 2020, UNI was distributed through an airdrop to early users of the platform and allocated to various stakeholders, including the development team, investors, and a community treasury.\\n\\nThe token allows holders to propose and vote on protocol upgrades, changes to fee structures, and other governance-related matters. UNI operates on the Ethereum blockchain following the ERC-20 standard, ensuring compatibility with a wide range of decentralized applications. Its total supply is capped, with a scheduled release over several years to support ongoing development and ecosystem growth.[21]\\n\\n\\n'"
      ]
     },
     "execution_count": 8,
     "metadata": {},
     "output_type": "execute_result"
    }
   ],
   "source": [
    "source = 'uniswap'\n",
    "prompt=f'''\n",
    "### **Step 1: Pose an Extracted Investor Question**\n",
    "You are an investor bot that simulates the decision-making process of A16Z. Your task is to evaluate a new startup by using a set of pre-extracted investor questions and decision factors derived from A16Z articles (where they discuss why they inveted in a particular startup).\n",
    "\n",
    "- **Action:** Start by selecting one question from the provided final list of investor questions.\n",
    "- **Example:** “What is the total addressable market (TAM) for this product?” or “Does the startup have a defensible competitive advantage?”\n",
    "\n",
    "---\n",
    "\n",
    "### **Step 2: Search for Answers in the new startup information provided by user**\n",
    "\n",
    "- **Action:** For the selected question, search the user provided information to see if answers exists.\n",
    "  - **If a strong answer is found:**  \n",
    "    - Present the answer to the user and explicitly highlight it as a strong point.  \n",
    "    - Example: “Based on A16Z’s past analysis, a strong answer is: ‘The startup operates in a market with a rapidly growing TAM and strong network effects, which indicates significant future potential.’”\n",
    "  - **If no answer is found in the dataset:**  \n",
    "    - Ask the user directly for their answer to the question.\n",
    "    - Example: “I couldn’t find a clear answer in our dataset. What is your view on the market size for this product?”\n",
    "\n",
    "---\n",
    "\n",
    "### **Step 3: Evaluate and Refine the User’s Answer**\n",
    "\n",
    "- **Action:** When the user provides an answer:\n",
    "  - **If the answer is strong:**  \n",
    "    - Acknowledge it as a strong point and proceed to the next question.\n",
    "  - **If the answer appears weak or incomplete:**  \n",
    "    - Engage the user with follow-up questions or suggestions to refine the answer.\n",
    "    - Example: “Could you elaborate further on how the market dynamics provide a competitive edge for the startup? What specific trends support your view?”\n",
    "\n",
    "\n",
    "\n",
    "## Below are the decision factors derived from a16z articles.\n",
    "\n",
    "{a16z_summary}\n",
    "\n",
    "## Below is the information for new startup ({source})\n",
    "{uniswap_context}\n",
    "\n",
    "'''\n",
    "prompt"
   ]
  },
  {
   "cell_type": "code",
   "execution_count": 9,
   "metadata": {},
   "outputs": [
    {
     "ename": "ModuleNotFoundError",
     "evalue": "No module named 'atoma_sdk'",
     "output_type": "error",
     "traceback": [
      "\u001b[0;31m---------------------------------------------------------------------------\u001b[0m",
      "\u001b[0;31mModuleNotFoundError\u001b[0m                       Traceback (most recent call last)",
      "Cell \u001b[0;32mIn[9], line 2\u001b[0m\n\u001b[1;32m      1\u001b[0m \u001b[38;5;66;03m# Synchronous Example\u001b[39;00m\n\u001b[0;32m----> 2\u001b[0m \u001b[38;5;28;01mfrom\u001b[39;00m\u001b[38;5;250m \u001b[39m\u001b[38;5;21;01matoma_sdk\u001b[39;00m\u001b[38;5;250m \u001b[39m\u001b[38;5;28;01mimport\u001b[39;00m AtomaSDK\n\u001b[1;32m      3\u001b[0m \u001b[38;5;28;01mimport\u001b[39;00m\u001b[38;5;250m \u001b[39m\u001b[38;5;21;01mos\u001b[39;00m\n\u001b[1;32m      5\u001b[0m \u001b[38;5;28;01mfrom\u001b[39;00m\u001b[38;5;250m \u001b[39m\u001b[38;5;21;01mdotenv\u001b[39;00m\u001b[38;5;250m \u001b[39m\u001b[38;5;28;01mimport\u001b[39;00m load_dotenv\n",
      "\u001b[0;31mModuleNotFoundError\u001b[0m: No module named 'atoma_sdk'"
     ]
    }
   ],
   "source": [
    "# Synchronous Example\n",
    "from atoma_sdk import AtomaSDK\n",
    "import os\n",
    "\n",
    "from dotenv import load_dotenv\n",
    "load_dotenv()\n",
    "\n",
    "assert os.environ.get('ATOMA_BEARER') != None\n",
    "\n",
    "\n",
    "def query_llm(query, include_thinking_text=False):\n",
    "    try:\n",
    "        with AtomaSDK(\n",
    "            bearer_auth=os.environ.get('ATOMA_BEARER'),\n",
    "        ) as atoma_sdk:\n",
    "            res = atoma_sdk.chat.create(messages=[\n",
    "                {\n",
    "                    \"content\": query,\n",
    "                    \"role\": \"user\",\n",
    "                },\n",
    "            ], model=\"deepseek-ai/DeepSeek-R1\", frequency_penalty=0, max_tokens=2048, n=1, presence_penalty=0, seed=123, stop=[\n",
    "                \"json([\\\"stop\\\", \\\"halt\\\"])\",\n",
    "            ], temperature=0.7, top_p=1, user=\"user-1234\")\n",
    "            # Handle response\n",
    "            if include_thinking_text:\n",
    "                return res.choices[0].message.content\n",
    "            else:\n",
    "                return res.choices[0].message.content.split('</think>')[-1].strip()\n",
    "    except Exception as ex:\n",
    "        print(f' error query llm: {ex}')\n",
    "        return f\"error query llm: {ex}\"\n",
    "\n",
    "\n",
    "query_llm(prompt)"
   ]
  }
 ],
 "metadata": {
  "kernelspec": {
   "display_name": "framesmith",
   "language": "python",
   "name": "python3"
  },
  "language_info": {
   "codemirror_mode": {
    "name": "ipython",
    "version": 3
   },
   "file_extension": ".py",
   "mimetype": "text/x-python",
   "name": "python",
   "nbconvert_exporter": "python",
   "pygments_lexer": "ipython3",
   "version": "3.12.8"
  }
 },
 "nbformat": 4,
 "nbformat_minor": 2
}
